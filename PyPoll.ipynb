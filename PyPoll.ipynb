{
 "cells": [
  {
   "cell_type": "code",
   "execution_count": 40,
   "metadata": {},
   "outputs": [],
   "source": [
    "import os\n",
    "import csv\n",
    "import itertools"
   ]
  },
  {
   "cell_type": "code",
   "execution_count": 41,
   "metadata": {},
   "outputs": [],
   "source": [
    "# null so the loop doesn't keep adding items\n",
    "\n",
    "candidates = []\n",
    "total_votes = 0"
   ]
  },
  {
   "cell_type": "code",
   "execution_count": 42,
   "metadata": {},
   "outputs": [],
   "source": [
    "# Assign csv file name\n",
    "c_csv_1 = os.path.join(\"Instructions/PyPoll/Resources/election_data.csv\")\n",
    "\n",
    "# open as a DictReader to assign candidates a loop\n",
    "with open(c_csv_1, 'r') as pypoll_data:\n",
    "    csvreader = csv.DictReader(pypoll_data)\n",
    "    \n",
    "    for row in itertools.islice(csvreader, 1, None):\n",
    "        if row[\"Candidate\"] not in candidates:\n",
    "            total_votes += 1\n",
    "            candidates.append(row[\"Candidate\"])\n",
    "        else:\n",
    "            total_votes += 1"
   ]
  },
  {
   "cell_type": "code",
   "execution_count": 43,
   "metadata": {},
   "outputs": [],
   "source": [
    "i = 0"
   ]
  },
  {
   "cell_type": "code",
   "execution_count": 44,
   "metadata": {},
   "outputs": [],
   "source": [
    "# code to tally votes\n",
    "length = len(candidates)\n",
    "vote_count = [0] * length"
   ]
  },
  {
   "cell_type": "code",
   "execution_count": 45,
   "metadata": {},
   "outputs": [],
   "source": [
    "# open the file as a cvsreader (took about two or three hours to figure out the error)\n",
    "\n",
    "with open(c_csv_1, newline='') as pypoll:\n",
    "    csvreader = csv.reader(pypoll)\n",
    "    for row in itertools.islice(csvreader, 1, None):\n",
    "    \n",
    "          for i in range(length):\n",
    "            if row[2] == candidates[i]:\n",
    "                vote_count[i] += 1"
   ]
  },
  {
   "cell_type": "code",
   "execution_count": 46,
   "metadata": {},
   "outputs": [],
   "source": [
    "# null items\n",
    "j = 0\n",
    "percent_votes = []"
   ]
  },
  {
   "cell_type": "code",
   "execution_count": 47,
   "metadata": {},
   "outputs": [],
   "source": [
    "# calculate the percentage of votes each candidate received by dividing vote_count with total_votes\n",
    "\n",
    "for j in range(length):\n",
    "    pv = round(vote_count[j] / total_votes * 100.00, 2)\n",
    "    percent_votes.append(pv)"
   ]
  },
  {
   "cell_type": "code",
   "execution_count": 48,
   "metadata": {},
   "outputs": [],
   "source": [
    "# find out which candidate won using vote_count\n",
    "\n",
    "max_votes = max(vote_count)\n",
    "max_index = vote_count.index(max_votes)\n",
    "election_winner = candidates[max_index]"
   ]
  },
  {
   "cell_type": "code",
   "execution_count": 49,
   "metadata": {},
   "outputs": [
    {
     "ename": "SyntaxError",
     "evalue": "invalid syntax (<ipython-input-49-089faa3aaa8e>, line 5)",
     "output_type": "error",
     "traceback": [
      "\u001b[0;36m  File \u001b[0;32m\"<ipython-input-49-089faa3aaa8e>\"\u001b[0;36m, line \u001b[0;32m5\u001b[0m\n\u001b[0;31m    txtfile.write(for (x, y, z) in zip(candidates, percent_votes, vote_count):\u001b[0m\n\u001b[0m                    ^\u001b[0m\n\u001b[0;31mSyntaxError\u001b[0m\u001b[0;31m:\u001b[0m invalid syntax\n"
     ]
    }
   ],
   "source": [
    "# export as a txt file\n",
    "\n",
    "txtpath = (\"Resources/pypoll_final.txt\")\n",
    "with open(txtpath, \"w\") as txtfile:\n",
    "    txtfile.write(\"  Financial Analysis  \\n\")\n",
    "    txtfile.write(\"----------------------\\n\")\n",
    "    txtfile.write(for (x, y, z) in zip(candidates, percent_votes, vote_count):\n",
    "    print(\"Name: \", x ,\"; Percent: \", y, \"; Total Votes: \", z ) + \"\\n\")\n",
    "    txtfile.write(\"-------------------------\"\" + \"\\n\")\n",
    "    txtfile.write(\"Total votes: \" + str(total_votes) + \"\\n\")\n",
    "    txtfile.write(\"-------------------------\" + \"\\n\")  \n",
    "    txtfile.write(\"Winner: \" + str(election_winner) + \"\\n\")"
   ]
  },
  {
   "cell_type": "code",
   "execution_count": 50,
   "metadata": {},
   "outputs": [
    {
     "name": "stdout",
     "output_type": "stream",
     "text": [
      "Election Results\n",
      "-------------------------\n",
      "Name:  Correy ; Percent:  20.0 ; Total Votes:  704200\n",
      "Name:  Khan ; Percent:  63.0 ; Total Votes:  2218231\n",
      "Name:  Li ; Percent:  14.0 ; Total Votes:  492940\n",
      "Name:  O'Tooley ; Percent:  3.0 ; Total Votes:  105630\n",
      "-------------------------\n",
      "Total votes: 3521000\n",
      "-------------------------\n",
      "Winner: Khan\n"
     ]
    }
   ],
   "source": [
    "# print results\n",
    "\n",
    "print(\"Election Results\")\n",
    "print(\"-------------------------\")\n",
    "for (x, y, z) in zip(candidates, percent_votes, vote_count):\n",
    "    print(\"Name: \", x ,\"; Percent: \", y, \"; Total Votes: \", z )\n",
    "print(\"-------------------------\")\n",
    "print(\"Total votes: \" + str(total_votes))\n",
    "print(\"-------------------------\")\n",
    "print(\"Winner: \" + str(election_winner))"
   ]
  },
  {
   "cell_type": "code",
   "execution_count": null,
   "metadata": {},
   "outputs": [],
   "source": []
  }
 ],
 "metadata": {
  "kernelspec": {
   "display_name": "Python 3",
   "language": "python",
   "name": "python3"
  },
  "language_info": {
   "codemirror_mode": {
    "name": "ipython",
    "version": 3
   },
   "file_extension": ".py",
   "mimetype": "text/x-python",
   "name": "python",
   "nbconvert_exporter": "python",
   "pygments_lexer": "ipython3",
   "version": "3.7.3"
  }
 },
 "nbformat": 4,
 "nbformat_minor": 4
}
