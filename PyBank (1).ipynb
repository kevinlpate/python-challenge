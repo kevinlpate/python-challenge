{
 "cells": [
  {
   "cell_type": "code",
   "execution_count": 34,
   "metadata": {},
   "outputs": [],
   "source": [
    "import os\n",
    "import csv\n",
    "import itertools"
   ]
  },
  {
   "cell_type": "code",
   "execution_count": 48,
   "metadata": {},
   "outputs": [],
   "source": [
    "# Assign csv file name\n",
    "\n",
    "c_csv = os.path.join(\"./Resources/budget_data.csv\")\n",
    "\n",
    "# null items\n",
    "\n",
    "dates = []\n",
    "revenue = []\n",
    "\n",
    "# open c_csv as a csvreader\n",
    "\n",
    "with open(c_csv, 'r') as pybank_data:\n",
    "    csvreader = csv.reader(pybank_data)\n",
    "    \n",
    "    for row in itertools.islice(csvreader, 1, None):\n",
    "        dates.append(row[0])\n",
    "        revenue.append(row[1])"
   ]
  },
  {
   "cell_type": "code",
   "execution_count": 36,
   "metadata": {},
   "outputs": [],
   "source": [
    "# count the number of months using len function\n",
    "\n",
    "number_of_months = len(dates)"
   ]
  },
  {
   "cell_type": "code",
   "execution_count": 37,
   "metadata": {},
   "outputs": [],
   "source": [
    "# null variables\n",
    "\n",
    "total_revenue = 0\n",
    "i = 0"
   ]
  },
  {
   "cell_type": "code",
   "execution_count": 38,
   "metadata": {},
   "outputs": [],
   "source": [
    "# loop to find total revenue\n",
    "\n",
    "for i in range (number_of_months):\n",
    "    total_revenue = total_revenue + int(revenue[i])"
   ]
  },
  {
   "cell_type": "code",
   "execution_count": 39,
   "metadata": {},
   "outputs": [],
   "source": [
    "# null variable\n",
    "\n",
    "monthly_change = []"
   ]
  },
  {
   "cell_type": "code",
   "execution_count": 40,
   "metadata": {},
   "outputs": [],
   "source": [
    "# null variable\n",
    "\n",
    "j = 0\n",
    "k = 0"
   ]
  },
  {
   "cell_type": "code",
   "execution_count": 41,
   "metadata": {},
   "outputs": [],
   "source": [
    "# use j to find what the monthly change is also use the append function\n",
    "\n",
    "for j in range (0, number_of_months):\n",
    "    if j == 0:\n",
    "        monthly_change.append(0)\n",
    "    else:\n",
    "        monthly_change.append(int(revenue[j])-int(revenue[k]))\n",
    "        k += 1"
   ]
  },
  {
   "cell_type": "code",
   "execution_count": 42,
   "metadata": {},
   "outputs": [],
   "source": [
    "# null variables\n",
    "\n",
    "sum_monthly_change = 0\n",
    "m = 0"
   ]
  },
  {
   "cell_type": "code",
   "execution_count": 43,
   "metadata": {},
   "outputs": [],
   "source": [
    "# find the montly change\n",
    "\n",
    "for m in range(number_of_months):\n",
    "    sum_monthly_change = sum_monthly_change + int(monthly_change[m])\n",
    "average_monthly_change = int(sum_monthly_change)/int(number_of_months - 1)"
   ]
  },
  {
   "cell_type": "code",
   "execution_count": 44,
   "metadata": {},
   "outputs": [],
   "source": [
    "# calculate the highest revenue change, but use the entire row to get the answer to include months\n",
    "\n",
    "max_revenue_change = max(monthly_change)\n",
    "max_index = monthly_change.index(max_revenue_change)\n",
    "max_date = dates[max_index]"
   ]
  },
  {
   "cell_type": "code",
   "execution_count": 45,
   "metadata": {},
   "outputs": [],
   "source": [
    "# calculate the lowest revenue change, but use the entire row to get the answer to include months\n",
    "\n",
    "min_revenue_change = min(monthly_change)\n",
    "min_index = monthly_change.index(min_revenue_change)\n",
    "min_date = dates[min_index]"
   ]
  },
  {
   "cell_type": "code",
   "execution_count": 46,
   "metadata": {},
   "outputs": [],
   "source": [
    "# export as a txt file\n",
    "\n",
    "txtpath = (\"Resources/pybank_final.txt\")\n",
    "with open(txtpath, \"w\") as txtfile:\n",
    "    txtfile.write(\"  Financial Analysis  \\n\")\n",
    "    txtfile.write(\"----------------------\\n\")\n",
    "    txtfile.write(\"Total Months: \" + str(number_of_months) + \"\\n\")\n",
    "    txtfile.write(\"Total Revenue: \" + str(total_revenue) + \"\\n\")\n",
    "    txtfile.write(\"Average Revenue Change: \" + str(average_monthly_change) + \"\\n\")\n",
    "    txtfile.write(\"Greatest Decrease in Revenue: \" + str(min_date) + \" \" + str(min_revenue_change) + \"\\n\")  \n",
    "    txtfile.write(\"Greatest Increase in Revenue: \" + str(max_date) + \" \" + str(max_revenue_change) + \"\\n\")"
   ]
  },
  {
   "cell_type": "code",
   "execution_count": 47,
   "metadata": {},
   "outputs": [
    {
     "name": "stdout",
     "output_type": "stream",
     "text": [
      "  Financial Analysis  \n",
      "----------------------\n",
      "Total Months: 86\n",
      "Total Revenue: $38382578\n",
      "Average Revenue Change: $-2315.1176470588234\n",
      "Greatest Decrease in Revenue: Sep-2013 $-2196167\n",
      "Greatest Increase in Revenue: Feb-2012 $1926159\n"
     ]
    }
   ],
   "source": [
    "# print results\n",
    "\n",
    "print(\"  Financial Analysis  \")\n",
    "print(\"----------------------\")\n",
    "print(\"Total Months: \" + str(number_of_months))\n",
    "print(\"Total Revenue: \" + \"$\" + str(total_revenue))\n",
    "print(\"Average Revenue Change: \" + \"$\" + str(average_monthly_change))\n",
    "print(\"Greatest Decrease in Revenue: \" + str(min_date) + \" \" + \"$\" + str(min_revenue_change))  \n",
    "print(\"Greatest Increase in Revenue: \" + str(max_date) + \" \" + \"$\" + str(max_revenue_change)) "
   ]
  },
  {
   "cell_type": "code",
   "execution_count": null,
   "metadata": {},
   "outputs": [],
   "source": []
  }
 ],
 "metadata": {
  "kernelspec": {
   "display_name": "Python 3",
   "language": "python",
   "name": "python3"
  },
  "language_info": {
   "codemirror_mode": {
    "name": "ipython",
    "version": 3
   },
   "file_extension": ".py",
   "mimetype": "text/x-python",
   "name": "python",
   "nbconvert_exporter": "python",
   "pygments_lexer": "ipython3",
   "version": "3.7.3"
  }
 },
 "nbformat": 4,
 "nbformat_minor": 4
}
