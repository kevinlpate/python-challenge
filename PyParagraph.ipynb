{
 "cells": [
  {
   "cell_type": "code",
   "execution_count": 1,
   "metadata": {},
   "outputs": [],
   "source": [
    "import re"
   ]
  },
  {
   "cell_type": "code",
   "execution_count": 19,
   "metadata": {},
   "outputs": [],
   "source": [
    "textfile = open(\"ExtraContent/Instructions/PyParagraph/raw_data/paragraph_1.txt\", \"r\")\n",
    "sentences = re.split(\"\\. \", textfile.read())\n",
    "number_of_sentences = len(sentences)"
   ]
  },
  {
   "cell_type": "code",
   "execution_count": 20,
   "metadata": {},
   "outputs": [],
   "source": [
    "i = 0\n",
    "j = 0\n",
    "split_words = []"
   ]
  },
  {
   "cell_type": "code",
   "execution_count": 21,
   "metadata": {},
   "outputs": [],
   "source": [
    "for i in range(number_of_sentences):\n",
    "    split_words.append(re.split(\" \", sentences[i]))"
   ]
  },
  {
   "cell_type": "code",
   "execution_count": 25,
   "metadata": {},
   "outputs": [],
   "source": [
    "total_words = 0\n",
    "for j in range(number_of_sentences):\n",
    "    total_words = total_words + len(split_words[j])\n",
    "average_length = int(total_words)/int(number_of_sentences)"
   ]
  },
  {
   "cell_type": "code",
   "execution_count": 26,
   "metadata": {},
   "outputs": [],
   "source": [
    "textfile = open(\"ExtraContent/Instructions/PyParagraph/raw_data/paragraph_1.txt\", \"r\")\n",
    "words = re.split(\" \", textfile.read())\n",
    "w = 0\n",
    "character_length = 0"
   ]
  },
  {
   "cell_type": "code",
   "execution_count": 27,
   "metadata": {},
   "outputs": [],
   "source": [
    "for w in range(total_words):\n",
    "    character_length = character_length + len(words[w])\n",
    "average_length = int(character_length)/int(total_words)"
   ]
  },
  {
   "cell_type": "code",
   "execution_count": 30,
   "metadata": {},
   "outputs": [
    {
     "name": "stdout",
     "output_type": "stream",
     "text": [
      "Paragraph Analysis\n",
      "------------------\n",
      "Number of Sentences: 5\n",
      "Average Sentence Length: 6.392307692307693 words\n",
      "Total Words: 130\n",
      "Average Word Length: 6.392307692307693 characters\n"
     ]
    }
   ],
   "source": [
    "print(\"Paragraph Analysis\")\n",
    "print(\"------------------\")\n",
    "print(\"Number of Sentences: \" + str(number_of_sentences))\n",
    "print(\"Average Sentence Length: \" + str(average_length) + \" words\")\n",
    "print(\"Total Words: \" + str(total_words))\n",
    "print(\"Average Word Length: \" + str(average_length) + \" characters\")"
   ]
  },
  {
   "cell_type": "code",
   "execution_count": null,
   "metadata": {},
   "outputs": [],
   "source": []
  }
 ],
 "metadata": {
  "kernelspec": {
   "display_name": "Python 3",
   "language": "python",
   "name": "python3"
  },
  "language_info": {
   "codemirror_mode": {
    "name": "ipython",
    "version": 3
   },
   "file_extension": ".py",
   "mimetype": "text/x-python",
   "name": "python",
   "nbconvert_exporter": "python",
   "pygments_lexer": "ipython3",
   "version": "3.7.3"
  }
 },
 "nbformat": 4,
 "nbformat_minor": 4
}
